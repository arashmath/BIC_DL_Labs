{
  "cells": [
    {
      "cell_type": "markdown",
      "metadata": {
        "id": "ASGEQQ0RBcFW"
      },
      "source": [
        "## Trasnlation from `keras` to `pytorch` by ChatGPT, **without improvements**."
      ]
    },
    {
      "cell_type": "markdown",
      "metadata": {},
      "source": [
        "- FFNN plain\n",
        "- FFNN improved\n",
        "- CNN improved\n",
        "- RNN improved"
      ]
    },
    {
      "cell_type": "markdown",
      "metadata": {},
      "source": [
        "### FFNN plain"
      ]
    },
    {
      "cell_type": "code",
      "execution_count": null,
      "metadata": {
        "id": "GCly0v7cAyGQ"
      },
      "outputs": [],
      "source": [
        "import torch\n",
        "import torch.nn as nn\n",
        "import torch.nn.functional as F\n",
        "import torch.optim as optim\n",
        "from torchvision import datasets, transforms"
      ]
    },
    {
      "cell_type": "code",
      "execution_count": null,
      "metadata": {
        "id": "NN1UnBT0CsUZ"
      },
      "outputs": [],
      "source": [
        "# Hyperparameters\n",
        "batch_size = 128\n",
        "num_classes = 10\n",
        "epochs = 20\n",
        "learning_rate = 0.001"
      ]
    },
    {
      "cell_type": "code",
      "execution_count": null,
      "metadata": {
        "id": "dXUGYgPmCwah"
      },
      "outputs": [],
      "source": [
        "# Data Loading\n",
        "transform = transforms.Compose([transforms.ToTensor(), transforms.Normalize((0.5,), (0.5,))])\n",
        "\n",
        "train_dataset = datasets.MNIST('./data', train=True, download=True, transform=transform)\n",
        "test_dataset = datasets.MNIST('./data', train=False, transform=transform)\n",
        "\n",
        "train_loader = torch.utils.data.DataLoader(train_dataset, batch_size=batch_size, shuffle=True)\n",
        "test_loader = torch.utils.data.DataLoader(test_dataset, batch_size=batch_size, shuffle=False)"
      ]
    },
    {
      "cell_type": "code",
      "execution_count": null,
      "metadata": {
        "id": "PTitDZEgC5P7"
      },
      "outputs": [],
      "source": [
        "# Neural Network Definition\n",
        "class Net(nn.Module):\n",
        "    def __init__(self):\n",
        "        super(Net, self).__init__()\n",
        "        self.fc1 = nn.Linear(784, 512)\n",
        "        self.fc2 = nn.Linear(512, 512)\n",
        "        self.fc3 = nn.Linear(512, num_classes)\n",
        "        self.dropout = nn.Dropout(0.2)\n",
        "\n",
        "    def forward(self, x):\n",
        "        x = x.view(-1, 784)\n",
        "        x = F.relu(self.fc1(x))\n",
        "        x = self.dropout(x)\n",
        "        x = F.relu(self.fc2(x))\n",
        "        x = self.dropout(x)\n",
        "        x = self.fc3(x)\n",
        "        return F.log_softmax(x, dim=1)\n",
        "\n",
        "model = Net()\n",
        "optimizer = optim.RMSprop(model.parameters(), lr=learning_rate)\n",
        "criterion = nn.CrossEntropyLoss()"
      ]
    },
    {
      "cell_type": "code",
      "execution_count": null,
      "metadata": {
        "id": "9LivE-9TC7Wh"
      },
      "outputs": [],
      "source": [
        "# Training\n",
        "for epoch in range(epochs):\n",
        "    model.train()\n",
        "    for batch_idx, (data, target) in enumerate(train_loader):\n",
        "        optimizer.zero_grad()\n",
        "        output = model(data)\n",
        "        loss = criterion(output, target)\n",
        "        loss.backward()\n",
        "        optimizer.step()\n",
        "    # Validation\n",
        "    model.eval()\n",
        "    test_loss = 0\n",
        "    correct = 0\n",
        "    with torch.no_grad():\n",
        "        for data, target in test_loader:\n",
        "            output = model(data)\n",
        "            test_loss += criterion(output, target).item()\n",
        "            pred = output.argmax(dim=1, keepdim=True)\n",
        "            correct += pred.eq(target.view_as(pred)).sum().item()\n",
        "\n",
        "    test_loss /= len(test_loader.dataset)\n",
        "    print('Epoch: {}, Test set: Average loss: {:.4f}, Accuracy: {}/{} ({:.0f}%)'.format(\n",
        "        epoch, test_loss, correct, len(test_loader.dataset), 100. * correct / len(test_loader)))"
      ]
    },
    {
      "cell_type": "code",
      "execution_count": 1,
      "metadata": {
        "colab": {
          "base_uri": "https://localhost:8080/"
        },
        "id": "bPL-HMtbBZUn",
        "outputId": "4ae23881-5571-4858-853f-eecfbe12c0de"
      },
      "outputs": [
        {
          "name": "stdout",
          "output_type": "stream",
          "text": [
            "Downloading http://yann.lecun.com/exdb/mnist/train-images-idx3-ubyte.gz\n",
            "Downloading http://yann.lecun.com/exdb/mnist/train-images-idx3-ubyte.gz to ./data/MNIST/raw/train-images-idx3-ubyte.gz\n"
          ]
        },
        {
          "name": "stderr",
          "output_type": "stream",
          "text": [
            "100%|██████████| 9912422/9912422 [00:00<00:00, 121145232.64it/s]\n"
          ]
        },
        {
          "name": "stdout",
          "output_type": "stream",
          "text": [
            "Extracting ./data/MNIST/raw/train-images-idx3-ubyte.gz to ./data/MNIST/raw\n",
            "\n",
            "Downloading http://yann.lecun.com/exdb/mnist/train-labels-idx1-ubyte.gz\n",
            "Downloading http://yann.lecun.com/exdb/mnist/train-labels-idx1-ubyte.gz to ./data/MNIST/raw/train-labels-idx1-ubyte.gz\n"
          ]
        },
        {
          "name": "stderr",
          "output_type": "stream",
          "text": [
            "100%|██████████| 28881/28881 [00:00<00:00, 89863274.35it/s]\n"
          ]
        },
        {
          "name": "stdout",
          "output_type": "stream",
          "text": [
            "Extracting ./data/MNIST/raw/train-labels-idx1-ubyte.gz to ./data/MNIST/raw\n",
            "\n",
            "Downloading http://yann.lecun.com/exdb/mnist/t10k-images-idx3-ubyte.gz\n",
            "Downloading http://yann.lecun.com/exdb/mnist/t10k-images-idx3-ubyte.gz to ./data/MNIST/raw/t10k-images-idx3-ubyte.gz\n"
          ]
        },
        {
          "name": "stderr",
          "output_type": "stream",
          "text": [
            "100%|██████████| 1648877/1648877 [00:00<00:00, 29753191.75it/s]\n"
          ]
        },
        {
          "name": "stdout",
          "output_type": "stream",
          "text": [
            "Extracting ./data/MNIST/raw/t10k-images-idx3-ubyte.gz to ./data/MNIST/raw\n",
            "\n",
            "Downloading http://yann.lecun.com/exdb/mnist/t10k-labels-idx1-ubyte.gz\n",
            "Downloading http://yann.lecun.com/exdb/mnist/t10k-labels-idx1-ubyte.gz to ./data/MNIST/raw/t10k-labels-idx1-ubyte.gz\n"
          ]
        },
        {
          "name": "stderr",
          "output_type": "stream",
          "text": [
            "100%|██████████| 4542/4542 [00:00<00:00, 16408724.18it/s]\n"
          ]
        },
        {
          "name": "stdout",
          "output_type": "stream",
          "text": [
            "Extracting ./data/MNIST/raw/t10k-labels-idx1-ubyte.gz to ./data/MNIST/raw\n",
            "\n",
            "Epoch: 0, Test set: Average loss: 0.0013, Accuracy: 9491/10000 (12014%)\n",
            "Epoch: 1, Test set: Average loss: 0.0011, Accuracy: 9569/10000 (12113%)\n",
            "Epoch: 2, Test set: Average loss: 0.0009, Accuracy: 9644/10000 (12208%)\n",
            "Epoch: 3, Test set: Average loss: 0.0008, Accuracy: 9670/10000 (12241%)\n",
            "Epoch: 4, Test set: Average loss: 0.0008, Accuracy: 9696/10000 (12273%)\n",
            "Epoch: 5, Test set: Average loss: 0.0007, Accuracy: 9739/10000 (12328%)\n",
            "Epoch: 6, Test set: Average loss: 0.0007, Accuracy: 9757/10000 (12351%)\n",
            "Epoch: 7, Test set: Average loss: 0.0006, Accuracy: 9770/10000 (12367%)\n",
            "Epoch: 8, Test set: Average loss: 0.0006, Accuracy: 9774/10000 (12372%)\n",
            "Epoch: 9, Test set: Average loss: 0.0006, Accuracy: 9792/10000 (12395%)\n",
            "Epoch: 10, Test set: Average loss: 0.0006, Accuracy: 9787/10000 (12389%)\n",
            "Epoch: 11, Test set: Average loss: 0.0006, Accuracy: 9772/10000 (12370%)\n",
            "Epoch: 12, Test set: Average loss: 0.0007, Accuracy: 9767/10000 (12363%)\n",
            "Epoch: 13, Test set: Average loss: 0.0007, Accuracy: 9761/10000 (12356%)\n",
            "Epoch: 14, Test set: Average loss: 0.0005, Accuracy: 9791/10000 (12394%)\n",
            "Epoch: 15, Test set: Average loss: 0.0005, Accuracy: 9801/10000 (12406%)\n",
            "Epoch: 16, Test set: Average loss: 0.0005, Accuracy: 9827/10000 (12439%)\n",
            "Epoch: 17, Test set: Average loss: 0.0006, Accuracy: 9796/10000 (12400%)\n",
            "Epoch: 18, Test set: Average loss: 0.0006, Accuracy: 9761/10000 (12356%)\n",
            "Epoch: 19, Test set: Average loss: 0.0006, Accuracy: 9819/10000 (12429%)\n",
            "\n",
            "Test set: Average loss: {:.4f}, Accuracy: {}/{}\n"
          ]
        }
      ],
      "source": [
        "# Final Evaluation\n",
        "model.eval()\n",
        "test_loss = 0\n",
        "correct = 0\n",
        "with torch.no_grad():\n",
        "    for data, target in test_loader:\n",
        "        output = model(data)\n",
        "        test_loss += criterion(output, target).item()  # sum up batch loss\n",
        "        pred = output.argmax(dim=1, keepdim=True)  # get the index of the max log-probability\n",
        "        correct += pred.eq(target.view_as(pred)).sum().item()\n",
        "\n",
        "test_loss /= len(test_loader.dataset)\n",
        "\n",
        "print('\\nTest set: Average loss: {:.4f}, Accuracy: {}/{}')"
      ]
    },
    {
      "cell_type": "markdown",
      "metadata": {
        "id": "g_HExAqdQzuB"
      },
      "source": [
        "### FFNN improved"
      ]
    },
    {
      "cell_type": "markdown",
      "metadata": {
        "id": "4Uk7VdO0DTeU"
      },
      "source": [
        "Recommendations by chatgpt that has not been reflected in the code:\n",
        "\n",
        "- Batch normalization\n",
        "- Learning rate scheduling\n",
        "- Advanced optimizers (AdamW, for example, which combines weight decay and the Adam optimizer)\n",
        "- GPU training (Note: If you have a CUDA-enabled GPU, make sure to run this on GPU for faster execution)\n",
        "- Dataset normalization (already included in the previous code)\n",
        "\n",
        "----\n",
        "Firstly:\n",
        "- Batch Normalization: One potential improvement could be to introduce batch normalization layers. Batch normalization can improve the training process's speed and stability.\n",
        "\n",
        "- Regularization: In the Keras code, dropout is used as a regularization technique. While this is often effective, one could also consider L1 or L2 weight regularization or a combination thereof.\n",
        "\n",
        "- Learning Rate Scheduling: PyTorch provides easy-to-use learning rate schedulers that can adjust the learning rate during training. This could be useful if the loss plateaus.\n",
        "\n",
        "- Advanced Optimizers: The initial code used the RMSprop optimizer. While this is a solid choice, one could experiment with other optimizers like Adam or AdamW, which might provide better results for some problems.\n",
        "\n",
        "- Dataset Normalization: In the PyTorch code, I've added normalization to the MNIST dataset using transforms.Normalize((0.5,), (0.5,)). This makes the input values range from -1 to 1 which can aid in training.\n",
        "\n",
        "- GPU Training: The PyTorch code I provided runs on the CPU by default. For faster training, it's recommended to move computations to a GPU using model.to('cuda') and similarly for the data batches."
      ]
    },
    {
      "cell_type": "code",
      "execution_count": null,
      "metadata": {
        "id": "ImmNEKZ0Dxf4"
      },
      "outputs": [],
      "source": [
        "import torch\n",
        "import torch.nn as nn\n",
        "import torch.nn.functional as F\n",
        "import torch.optim as optim\n",
        "from torchvision import datasets, transforms\n",
        "from tqdm import tqdm # To view a progress bar during training on each epoch\n",
        "\n",
        "# Check for GPU availability\n",
        "device = torch.device(\"cuda\" if torch.cuda.is_available() else \"cpu\")\n",
        "\n",
        "# Hyperparameters\n",
        "batch_size = 128\n",
        "num_classes = 10\n",
        "epochs = 20\n",
        "learning_rate = 0.001\n",
        "weight_decay = 1e-5  # for L2 regularization\n",
        "\n",
        "# Data Loading with normalization\n",
        "transform = transforms.Compose([transforms.ToTensor(), transforms.Normalize((0.5,), (0.5,))])\n",
        "\n",
        "train_dataset = datasets.MNIST('./data', train=True, download=True, transform=transform)\n",
        "test_dataset = datasets.MNIST('./data', train=False, transform=transform)\n",
        "\n",
        "train_loader = torch.utils.data.DataLoader(train_dataset, batch_size=batch_size, shuffle=True)\n",
        "test_loader = torch.utils.data.DataLoader(test_dataset, batch_size=batch_size, shuffle=False)\n",
        "\n",
        "# Neural Network Definition with BatchNorm\n",
        "class Net(nn.Module):\n",
        "    def __init__(self):\n",
        "        super(Net, self).__init__()\n",
        "        self.fc1 = nn.Linear(784, 512)\n",
        "        self.fc2 = nn.Linear(512, 512)\n",
        "        self.fc3 = nn.Linear(512, num_classes)\n",
        "        self.dropout = nn.Dropout(0.2)\n",
        "        self.bn1 = nn.BatchNorm1d(512)\n",
        "        self.bn2 = nn.BatchNorm1d(512)\n",
        "\n",
        "    def forward(self, x):\n",
        "        x = x.view(-1, 784)\n",
        "        x = F.relu(self.bn1(self.fc1(x)))\n",
        "        x = self.dropout(x)\n",
        "        x = F.relu(self.bn2(self.fc2(x)))\n",
        "        x = self.dropout(x)\n",
        "        x = self.fc3(x)\n",
        "        return F.log_softmax(x, dim=1)\n",
        "\n",
        "model = Net().to(device)  # Move model to GPU if available\n",
        "optimizer = optim.AdamW(model.parameters(), lr=learning_rate, weight_decay=weight_decay)\n",
        "criterion = nn.CrossEntropyLoss()\n",
        "\n",
        "# Learning rate scheduler\n",
        "scheduler = optim.lr_scheduler.StepLR(optimizer, step_size=10, gamma=0.1)\n",
        "\n",
        "# Training\n",
        "for epoch in range(epochs):\n",
        "    model.train()\n",
        "    total_loss = 0\n",
        "    progress_bar = tqdm(enumerate(train_loader), total=len(train_loader), desc=\"Epoch {}\".format(epoch))\n",
        "    for batch_idx, (data, target) in progress_bar:\n",
        "        data, target = data.to(device), target.to(device)  # Move data to GPU if available\n",
        "        optimizer.zero_grad()\n",
        "        output = model(data)\n",
        "        loss = criterion(output, target)\n",
        "        loss.backward()\n",
        "        optimizer.step()\n",
        "\n",
        "        total_loss += loss.item()\n",
        "        progress_bar.set_postfix({'training_loss': '{:.3f}'.format(total_loss/(batch_idx+1))})\n",
        "\n",
        "    scheduler.step()  # Step the learning rate scheduler\n",
        "\n",
        "    # Validation\n",
        "    model.eval()\n",
        "    test_loss = 0\n",
        "    correct = 0\n",
        "    with torch.no_grad():\n",
        "        for data, target in test_loader:\n",
        "            data, target = data.to(device), target.to(device)  # Move data to GPU if available\n",
        "            output = model(data)\n",
        "            test_loss += criterion(output, target).item()\n",
        "            pred = output.argmax(dim=1, keepdim=True)\n",
        "            correct += pred.eq(target.view_as(pred)).sum().item()\n",
        "\n",
        "    test_loss /= len(test_loader.dataset)\n",
        "    print('Epoch: {}, Test set: Average loss: {:.4f}, Accuracy: {}/{} ({:.0f}%)'.format(\n",
        "        epoch, test_loss, correct, len(test_loader.dataset), 100. * correct / len(test_loader.dataset)))\n"
      ]
    }
  ],
  "metadata": {
    "accelerator": "GPU",
    "colab": {
      "gpuType": "T4",
      "provenance": []
    },
    "kernelspec": {
      "display_name": "Python 3",
      "name": "python3"
    },
    "language_info": {
      "name": "python"
    }
  },
  "nbformat": 4,
  "nbformat_minor": 0
}
